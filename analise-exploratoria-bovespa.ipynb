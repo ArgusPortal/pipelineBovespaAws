{
 "cells": [
  {
   "cell_type": "code",
   "execution_count": 2,
   "metadata": {},
   "outputs": [
    {
     "name": "stdout",
     "output_type": "stream",
     "text": [
      "Calculation started (calculation_id=d4cc2db8-562c-96c6-38cd-fc3c3a451621) in (session=5ecc2db7-fd66-2eeb-3b93-b060522871c5). Checking calculation status...\n"
     ]
    },
    {
     "data": {
      "application/vnd.jupyter.widget-view+json": {
       "model_id": "2fe3c76ec2cb49e58b2292d1ceeaa3cd",
       "version_major": 2,
       "version_minor": 0
      },
      "text/plain": [
       "Progress:   0%|          |elapsed time = 00:00s"
      ]
     },
     "metadata": {},
     "output_type": "display_data"
    },
    {
     "name": "stdout",
     "output_type": "stream",
     "text": [
      "Calculation completed.\n",
      "Dados carregados com sucesso do S3 para o ambiente local e lidos pelo Pandas!\n",
      "          asset        type  participacao_percentual  ... mes  dia codigo_acao\n",
      "0  PORTO SEGURO  ON      NM                    0.457  ...   7   29       PSSA3\n",
      "1         COSAN  ON      NM                    0.333  ...   7   29       CSAN3\n",
      "2    GERDAU MET  PN      N1                    0.286  ...   7   29       GOAU4\n",
      "3        HYPERA  ON      NM                    0.459  ...   7   28       HYPE3\n",
      "4          PETZ  ON      NM                    0.056  ...   7   29       PETZ3\n",
      "\n",
      "[5 rows x 11 columns]\n",
      "\n"
     ]
    }
   ],
   "source": [
    "import boto3\n",
    "import pandas as pd\n",
    "import time\n",
    "from urllib.parse import urlparse\n",
    "\n",
    "# --- Configura��es ---\n",
    "DATABASE = 'default'\n",
    "TABLE = 'dados_bovespa_refined'\n",
    "# Certifique-se que este � o local de sa�da de queries configurado no seu Athena\n",
    "S3_OUTPUT_LOCATION = 's3://aws-athena-query-results-290892317785/' \n",
    "\n",
    "# --- Query SQL ---\n",
    "# Ajuste a data para um dia que voc� tenha processado\n",
    "query = f\"SELECT * FROM \\\"{DATABASE}\\\".\\\"{TABLE}\\\" WHERE ano=2025 AND mes=7\"\n",
    "\n",
    "\n",
    "# --- Execu��o da Query ---\n",
    "client = boto3.client('athena', region_name='us-east-1')\n",
    "\n",
    "response = client.start_query_execution(\n",
    "    QueryString=query,\n",
    "    QueryExecutionContext={\n",
    "        'Database': DATABASE\n",
    "    },\n",
    "    ResultConfiguration={\n",
    "        'OutputLocation': S3_OUTPUT_LOCATION,\n",
    "    }\n",
    ")\n",
    "\n",
    "query_execution_id = response['QueryExecutionId']\n",
    "\n",
    "# Espera a query terminar\n",
    "status = 'RUNNING'\n",
    "while status in ['RUNNING', 'QUEUED']:\n",
    "    response = client.get_query_execution(QueryExecutionId=query_execution_id)\n",
    "    status = response['QueryExecution']['Status']['State']\n",
    "    if status == 'FAILED' or status == 'CANCELLED':\n",
    "        # Para depura��o, vamos imprimir a raz�o da falha\n",
    "        error_reason = response['QueryExecution']['Status'].get('StateChangeReason', 'Nenhuma raz�o informada.')\n",
    "        raise Exception(f'A consulta no Athena falhou! Raz�o: {error_reason}')\n",
    "    time.sleep(1)\n",
    "\n",
    "# --- CARREGAMENTO DOS DADOS (M�TODO CORRIGIDO) ---\n",
    "\n",
    "# 1. Pega o caminho do arquivo de resultado no S3\n",
    "s3_path = response['QueryExecution']['ResultConfiguration']['OutputLocation']\n",
    "\n",
    "# 2. Extrai o nome do bucket e o caminho do arquivo (chave)\n",
    "parsed_url = urlparse(s3_path, allow_fragments=False)\n",
    "s3_bucket = parsed_url.netloc\n",
    "s3_key = parsed_url.path.lstrip('/')\n",
    "\n",
    "# 3. Define um caminho local tempor�rio para salvar o arquivo\n",
    "local_path = '/tmp/athena_results.csv'\n",
    "\n",
    "# 4. Usa o boto3 para baixar o arquivo do S3 para o ambiente local do notebook\n",
    "s3_client = boto3.client('s3', region_name='us-east-1')\n",
    "s3_client.download_file(s3_bucket, s3_key, local_path)\n",
    "\n",
    "# 5. Agora o pandas l� o arquivo local, sem precisar da Layer fsspec/s3fs\n",
    "df = pd.read_csv(local_path)\n",
    "\n",
    "print(\"Dados carregados com sucesso do S3 para o ambiente local e lidos pelo Pandas!\")\n",
    "df.head()\n"
   ]
  },
  {
   "cell_type": "code",
   "execution_count": 3,
   "metadata": {},
   "outputs": [
    {
     "name": "stdout",
     "output_type": "stream",
     "text": [
      "Calculation started (calculation_id=8ecc2db8-8175-1f08-e894-57b7e4049b7e) in (session=5ecc2db7-fd66-2eeb-3b93-b060522871c5). Checking calculation status...\n"
     ]
    },
    {
     "data": {
      "application/vnd.jupyter.widget-view+json": {
       "model_id": "b8b399e456c740d69d6aa9d1b4f9aad6",
       "version_major": 2,
       "version_minor": 0
      },
      "text/plain": [
       "Progress:   0%|          |elapsed time = 00:00s"
      ]
     },
     "metadata": {},
     "output_type": "display_data"
    },
    {
     "name": "stdout",
     "output_type": "stream",
     "text": [
      "Calculation completed.\n",
      "Informa��es do DataFrame:\n",
      "<class 'pandas.core.frame.DataFrame'>\n",
      "RangeIndex: 168 entries, 0 to 167\n",
      "Data columns (total 11 columns):\n",
      " #   Column                      Non-Null Count  Dtype  \n",
      "---  ------                      --------------  -----  \n",
      " 0   asset                       168 non-null    object \n",
      " 1   type                        168 non-null    object \n",
      " 2   participacao_percentual     168 non-null    float64\n",
      " 3   data_coleta                 168 non-null    object \n",
      " 4   qtd_teorica                 168 non-null    int64  \n",
      " 5   timestamp_processamento     168 non-null    object \n",
      " 6   lag_processamento_segundos  168 non-null    int64  \n",
      " 7   ano                         168 non-null    int64  \n",
      " 8   mes                         168 non-null    int64  \n",
      " 9   dia                         168 non-null    int64  \n",
      " 10  codigo_acao                 168 non-null    object \n",
      "dtypes: float64(1), int64(5), object(5)\n",
      "memory usage: 14.6+ KB\n",
      "\n",
      "==================================================\n",
      "\n",
      "Estat�sticas Descritivas:\n",
      "       participacao_percentual   qtd_teorica  ...    mes         dia\n",
      "count               168.000000  1.680000e+02  ...  168.0  168.000000\n",
      "mean                  1.190476  1.094313e+09  ...    7.0   28.500000\n",
      "std                   1.828872  1.282493e+09  ...    0.0    0.501495\n",
      "min                   0.052000  8.183824e+07  ...    7.0   28.000000\n",
      "25%                   0.241000  3.213821e+08  ...    7.0   28.000000\n",
      "50%                   0.474500  6.340771e+08  ...    7.0   28.500000\n",
      "75%                   1.139750  1.255041e+09  ...    7.0   29.000000\n",
      "max                  11.553000  5.856698e+09  ...    7.0   29.000000\n",
      "\n",
      "[8 rows x 6 columns]\n",
      "\n"
     ]
    }
   ],
   "source": [
    "# C�lula 2\n",
    "\n",
    "# Mostra um resumo das colunas, a contagem de valores n�o nulos e os tipos de dados\n",
    "print(\"Informa��es do DataFrame:\")\n",
    "df.info()\n",
    "\n",
    "print(\"\\n\" + \"=\"*50 + \"\\n\")\n",
    "\n",
    "# Mostra estat�sticas descritivas (m�dia, desvio padr�o, etc.) para as colunas num�ricas\n",
    "print(\"Estat�sticas Descritivas:\")\n",
    "df.describe()"
   ]
  },
  {
   "cell_type": "code",
   "execution_count": 12,
   "metadata": {},
   "outputs": [
    {
     "name": "stdout",
     "output_type": "stream",
     "text": [
      "Calculation started (calculation_id=a0cc2dc3-f6e2-c837-bce3-e21a41b6d602) in (session=5ecc2db7-fd66-2eeb-3b93-b060522871c5). Checking calculation status...\n"
     ]
    },
    {
     "data": {
      "application/vnd.jupyter.widget-view+json": {
       "model_id": "347904dde5d24cae9b012dd168038d10",
       "version_major": 2,
       "version_minor": 0
      },
      "text/plain": [
       "Progress:   0%|          |elapsed time = 00:00s"
      ]
     },
     "metadata": {},
     "output_type": "display_data"
    },
    {
     "name": "stdout",
     "output_type": "stream",
     "text": [
      "Calculation completed.\n",
      "Dados consolidados com sucesso. Removendo duplicatas e somando participa��es.\n",
      "\n",
      "\n",
      "Top 10 A��es por Participa��o Percentual no Ibovespa (Consolidado)\n",
      "============================================================\n",
      "VALE3   | �������������������������������������������������� | 23.10%\n",
      "ITUB4   | �����������������������������������                | 16.17%\n",
      "PETR4   | �����������������������������                      | 13.77%\n",
      "PETR3   | ��������������������                               | 9.64%\n",
      "BBDC4   | ����������������                                   | 7.73%\n",
      "SBSP3   | ���������������                                    | 7.15%\n",
      "ELET3   | ��������������                                     | 6.68%\n",
      "B3SA3   | ��������������                                     | 6.54%\n",
      "ITSA4   | ������������                                       | 5.91%\n",
      "ABEV3   | ������������                                       | 5.69%\n",
      "============================================================\n",
      "\n",
      "\n",
      "Participa��o Total por Tipo de A��o (Consolidado)\n",
      "============================================================\n",
      "ON      NM | �������������������������������������������������� | 76.37%\n",
      "PN      N1 | �����������������������                            | 35.71%\n",
      "ON  ATZ NM | ���������������                                    | 24.08%\n",
      "PN      N2 | ���������                                          | 14.48%\n",
      "ON      N2 | �������                                            | 11.23%\n",
      "ON      N1 | �����                                              | 8.59%\n",
      "UNT     N2 | �����                                              | 8.44%\n",
      "ON      | ����                                               | 6.27%\n",
      "ON  ED  NM | ����                                               | 6.24%\n",
      "ON  EJ  | �                                                  | 2.28%\n",
      "PNB     N2 | �                                                  | 1.90%\n",
      "ON  EJ  NM | �                                                  | 1.56%\n",
      "PNB     N1 |                                                    | 1.08%\n",
      "UNT EJ  |                                                    | 0.92%\n",
      "PNA     N1 |                                                    | 0.44%\n",
      "UNT     N1 |                                                    | 0.40%\n",
      "============================================================\n",
      "\n"
     ]
    }
   ],
   "source": [
    "import pandas as pd\n",
    "\n",
    "# Garante que as colunas necess�rias s�o do tipo correto\n",
    "df['participacao_percentual'] = pd.to_numeric(df['participacao_percentual'])\n",
    "df['codigo_acao'] = df['codigo_acao'].astype(str)\n",
    "df['type'] = df['type'].astype(str)\n",
    "\n",
    "# --- NOVO: Agrupa os dados para consolidar a��es duplicadas ---\n",
    "# Agrupamos por 'codigo_acao' e 'type' para obter valores �nicos por ativo\n",
    "# Usamos .agg() para especificar como consolidar as outras colunas\n",
    "df_agrupado = df.groupby(['codigo_acao', 'type']).agg(\n",
    "    # Para a participa��o, somamos os valores\n",
    "    participacao_percentual=('participacao_percentual', 'sum')\n",
    ").reset_index() # .reset_index() transforma o resultado do groupby de volta em um DataFrame\n",
    "\n",
    "print(\"Dados consolidados com sucesso. Removendo duplicatas e somando participa��es.\")\n",
    "\n",
    "\n",
    "# --- AN�LISE 1: TOP 10 A��ES POR PARTICIPA��O (USANDO DADOS AGRUPADOS) ---\n",
    "\n",
    "# Ordenar e selecionar top 10 a partir do DataFrame j� agrupado\n",
    "top_10_acoes = df_agrupado.sort_values('participacao_percentual', ascending=False).head(10)\n",
    "\n",
    "print(\"\\n\\nTop 10 A��es por Participa��o Percentual no Ibovespa (Consolidado)\")\n",
    "print(\"=\" * 60)\n",
    "\n",
    "# Encontrar o valor m�ximo para a escala do gr�fico\n",
    "max_value_top10 = top_10_acoes['participacao_percentual'].max()\n",
    "\n",
    "for index, row in top_10_acoes.iterrows():\n",
    "    # Calcular o comprimento da barra (escala de 0 a 50 caracteres)\n",
    "    bar_length = int(50 * row['participacao_percentual'] / max_value_top10)\n",
    "    bar = '�' * bar_length\n",
    "    print(f\"{row['codigo_acao']:<7} | {bar:<50} | {row['participacao_percentual']:.2f}%\")\n",
    "\n",
    "print(\"=\" * 60)\n",
    "\n",
    "\n",
    "# --- AN�LISE 2: PARTICIPA��O POR TIPO DE A��O (USANDO DADOS AGRUPADOS) ---\n",
    "\n",
    "# Agrupa por 'type' e soma a participa��o do DataFrame j� consolidado\n",
    "participacao_por_tipo = df_agrupado.groupby('type')['participacao_percentual'].sum().sort_values(ascending=False).reset_index()\n",
    "\n",
    "print(\"\\n\\nParticipa��o Total por Tipo de A��o (Consolidado)\")\n",
    "print(\"=\" * 60)\n",
    "\n",
    "# Encontrar o valor m�ximo para a escala do gr�fico\n",
    "max_value_tipo = participacao_por_tipo['participacao_percentual'].max()\n",
    "\n",
    "for index, row in participacao_por_tipo.iterrows():\n",
    "    # Calcular o comprimento da barra\n",
    "    bar_length = int(50 * row['participacao_percentual'] / max_value_tipo)\n",
    "    bar = '�' * bar_length\n",
    "    print(f\"{row['type']:<7} | {bar:<50} | {row['participacao_percentual']:.2f}%\")\n",
    "\n",
    "print(\"=\" * 60)"
   ]
  },
  {
   "cell_type": "markdown",
   "metadata": {},
   "source": [
    "## Insights da An�lise\n",
    "\n",
    "Os gr�ficos de texto acima demonstram a clara concentra��o de peso do Ibovespa em um n�mero limitado de a��es, com destaque para os setores de commodities e financeiro.\n",
    "\n",
    "Adicionalmente, a an�lise por tipo de ativo mostra a domin�ncia de A��es Ordin�rias (ON) e Preferenciais (PN) na composi��o do �ndice, refletindo a estrutura de capital das maiores empresas listadas no Brasil."
   ]
  },
  {
   "cell_type": "code",
   "execution_count": null,
   "metadata": {},
   "outputs": [],
   "source": []
  }
 ],
 "metadata": {
  "kernelspec": {
   "display_name": "Athena PySpark",
   "language": "python",
   "name": "kepler_python_kernel"
  },
  "language_info": {
   "codemirror_mode": {
    "name": "python",
    "version": 3
   },
   "file_extension": ".py",
   "mimetype": "text/x-python",
   "name": "Python_Session",
   "pygments_lexer": "python3"
  }
 },
 "nbformat": 4,
 "nbformat_minor": 1
}
